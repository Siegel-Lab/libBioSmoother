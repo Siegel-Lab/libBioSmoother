{
 "cells": [
  {
   "cell_type": "code",
   "execution_count": 1,
   "metadata": {},
   "outputs": [],
   "source": [
    "import libbiosmoother\n",
    "import sys"
   ]
  },
  {
   "cell_type": "code",
   "execution_count": 2,
   "metadata": {},
   "outputs": [
    {
     "name": "stderr",
     "output_type": "stream",
     "text": [
      "WARNING: the version of libSps that was used to create this index is different from the current version. This may lead to undefined behavior.\n",
      "Version in index: 1.0.1-5ff650b-2023-10-24-13:45:15 \n",
      "Current version: D-1.1.0-5b50620-2024-01-31-12:47:33\n",
      "WARNING: the version of libBioSmoother that was used to create this index is different from the current version. This may lead to undefined behavior.\n",
      "Version in index: D-1.2.0-be15962-2023-11-13-16:57:03 \n",
      "Current version: D-1.3.1-085a801-2024-01-11-17:46:25\n"
     ]
    }
   ],
   "source": [
    "# load index\n",
    "index = libbiosmoother.Quarry(\"../../smoother_out/radicl.smoother_index\")"
   ]
  },
  {
   "cell_type": "code",
   "execution_count": 21,
   "metadata": {},
   "outputs": [
    {
     "name": "stdout",
     "output_type": "stream",
     "text": [
      "total v4c: [0.0, 0.0, 0.0, 0.001607795175684567, 0.0, 0.0, 0.0001948653119906582, 0.0, 0.000347271086607168, 0.0002844250978152333, 0.0, 0.0, 0.0, 0.00015801110698576075, 0.0003101166541838782, 0.000265725266498048, 0.0, 0.0, 0.0, 0.0, 8.938175550994692e-05, 0.00010523826440826407, 0.00019237433373573445, 0.0, 0.0, 0.0, 0.0, 5.788207121396173e-05, 0.0, 0.00010003550362489918, 0.0, 0.001221282548726553, 0.0, 0.0014053389705924804, 0.001053098706935485, 6.0829150374762016e-05, 0.0013170416385064004, 0.0, 5.123403261057826e-05, 0.000586115719555709, 0.0, 0.0, 5.581316755272227e-05, 2.3719648342436644e-05, 5.221584798129207e-05, 6.806936796632836e-05, 0.0, 0.0, 0.0, 5.854196651966148e-05, 0.0, 0.0, 0.0, 5.254367720322787e-05, 0.0, 0.0003321591659281245, 0.0, 0.0, 0.0, 0.0006683608186787586, 0.00021432048725326556, 0.0, 5.2961352824690894e-05, 6.45731415007725e-05, 0.0, 0.0, 0.00028327293396109384, 0.0, 0.0, 0.0, 0.0, 0.0, 0.0, 0.0, 7.998321712814151e-05, 0.0, 0.0, 0.0, 0.0, 0.0, 5.64634758701606e-05, 0.0, 0.00022583208327561083, 0.0, 0.0, 0.0, 0.0003007445934629152, 0.0, 0.0, 0.0, 0.0, 3.0958726417048886e-05, 6.936839266393589e-05, 0.0013258105054387123, 0.0, 0.0, 0.0, 0.00011033411962867496, 0.0, 5.654735429388543e-05, 0.0, 0.0008917301958396228, 0.0, 0.00012377192163050968, 0.0, 5.875444300509718e-05, 0.00010207362082662027, 0.0, 0.0014472419267386257, 0.0, 0.0004882108559828245, 0.0005851328627636909, 6.367616930297888e-05, 0.0, 0.0, 0.000419154693405233, 0.0, 0.0, 0.0, 0.00022193420215261853, 0.0, 0.0, 0.0, 0.0, 9.94124975118017e-05, 0.0022755979710193143, 0.001537128359692258, 0.00016322113018943583, 0.0, 6.994951246256227e-05, 0.0009674230466297649, 0.0, 0.0]\n",
      "chr11 v4c: [0.0, 0.0, 0.0, 0.001607795175684567, 0.0, 0.0, 0.0001948653119906582, 0.0, 0.000347271086607168, 0.0002844250978152333, 0.0, 0.0, 0.0, 0.00015801110698576075, 0.0003101166541838782, 0.000265725266498048, 0.0, 0.0, 0.0, 0.0, 8.938175550994692e-05, 0.00010523826440826407, 0.00019237433373573445, 0.0, 0.0, 0.0, 0.0, 5.788207121396173e-05, 0.0, 0.00010003550362489918, 0.0, 0.001221282548726553, 0.0, 0.0014053389705924804, 0.001053098706935485, 6.0829150374762016e-05, 0.0013170416385064004, 0.0, 5.123403261057826e-05, 0.000586115719555709, 0.0, 0.0, 5.581316755272227e-05, 2.3719648342436644e-05, 5.221584798129207e-05, 6.806936796632836e-05, 0.0, 0.0, 0.0, 5.854196651966148e-05, 0.0, 0.0, 0.0, 5.254367720322787e-05, 0.0, 0.0003321591659281245, 0.0, 0.0, 0.0, 0.0006683608186787586, 0.00021432048725326556, 0.0, 5.2961352824690894e-05, 6.45731415007725e-05, 0.0, 0.0, 0.00028327293396109384, 0.0, 0.0, 0.0, 0.0, 0.0, 0.0, 0.0, 7.998321712814151e-05, 0.0, 0.0, 0.0, 0.0, 0.0, 5.64634758701606e-05, 0.0, 0.00022583208327561083, 0.0, 0.0, 0.0, 0.0003007445934629152, 0.0, 0.0, 0.0, 0.0, 3.0958726417048886e-05, 6.936839266393589e-05, 0.0013258105054387123, 0.0, 0.0, 0.0, 0.00011033411962867496, 0.0, 5.654735429388543e-05, 0.0, 0.0008917301958396228, 0.0, 0.00012377192163050968, 0.0, 5.875444300509718e-05, 0.00010207362082662027, 0.0, 0.0014472419267386257, 0.0, 0.0004882108559828245, 0.0005851328627636909, 6.367616930297888e-05, 0.0, 0.0, 0.000419154693405233, 0.0, 0.0, 0.0, 0.00022193420215261853, 0.0, 0.0, 0.0, 0.0, 9.94124975118017e-05, 0.0022755979710193143, 0.001537128359692258, 0.00016322113018943583, 0.0, 6.994951246256227e-05, 0.0009674230466297649, 0.0, 0.0]\n",
      "diff: [0.0, 0.0, 0.0, 0.0, 0.0, 0.0, 0.0, 0.0, 0.0, 0.0, 0.0, 0.0, 0.0, 0.0, 0.0, 0.0, 0.0, 0.0, 0.0, 0.0, 0.0, 0.0, 0.0, 0.0, 0.0, 0.0, 0.0, 0.0, 0.0, 0.0, 0.0, 0.0, 0.0, 0.0, 0.0, 0.0, 0.0, 0.0, 0.0, 0.0, 0.0, 0.0, 0.0, 0.0, 0.0, 0.0, 0.0, 0.0, 0.0, 0.0, 0.0, 0.0, 0.0, 0.0, 0.0, 0.0, 0.0, 0.0, 0.0, 0.0, 0.0, 0.0, 0.0, 0.0, 0.0, 0.0, 0.0, 0.0, 0.0, 0.0, 0.0, 0.0, 0.0, 0.0, 0.0, 0.0, 0.0, 0.0, 0.0, 0.0, 0.0, 0.0, 0.0, 0.0, 0.0, 0.0, 0.0, 0.0, 0.0, 0.0, 0.0, 0.0, 0.0, 0.0, 0.0, 0.0, 0.0, 0.0, 0.0, 0.0, 0.0, 0.0, 0.0, 0.0, 0.0, 0.0, 0.0, 0.0, 0.0, 0.0, 0.0, 0.0, 0.0, 0.0, 0.0, 0.0, 0.0, 0.0, 0.0, 0.0, 0.0, 0.0, 0.0, 0.0, 0.0, 0.0, 0.0, 0.0, 0.0, 0.0, 0.0, 0.0, 0.0]\n",
      "max diff: 0.0\n"
     ]
    }
   ],
   "source": [
    "def set_area(index, area):\n",
    "    new_area = index.interpret_area(\n",
    "        area,\n",
    "        index.get_value([\"area\", \"x_start\"]),\n",
    "        index.get_value([\"area\", \"y_start\"]),\n",
    "        index.get_value([\"area\", \"x_end\"]),\n",
    "        index.get_value([\"area\", \"y_end\"]),\n",
    "        report_error=lambda s: print(s, file=sys.stderr),\n",
    "    )\n",
    "    if not new_area[0] is None:\n",
    "        index.set_value([\"area\", \"x_start\"], new_area[0])\n",
    "    if not new_area[1] is None:\n",
    "        index.set_value([\"area\", \"x_end\"], new_area[1])\n",
    "    if not new_area[2] is None:\n",
    "        index.set_value([\"area\", \"y_start\"], new_area[2])\n",
    "    if not new_area[3] is None:\n",
    "        index.set_value([\"area\", \"y_end\"], new_area[3])\n",
    "\n",
    "def set_v4c_range(index, v4c_loci):\n",
    "    range_ = index.interpret_range(\n",
    "        v4c_loci, True, report_error=lambda s: print(s, file=sys.stderr)\n",
    "    )\n",
    "    if not range_[0] is None:\n",
    "        index.set_value([\"settings\", \"interface\", \"v4c\", \"col_from\"], range_[0])\n",
    "    if not range_[1] is None:\n",
    "        index.set_value([\"settings\", \"interface\", \"v4c\", \"col_to\"], range_[1])\n",
    "\n",
    "def configure(index, area=\"*\", v4c_loci=\"Chr3_core: 100k .. 150k\", ice=True):\n",
    "    if ice:\n",
    "        index.set_value(\"settings.normalization.normalize_by\".split('.'), \"ice\")\n",
    "    else:\n",
    "        index.set_value(\"settings.normalization.normalize_by\".split('.'), \"dont\")\n",
    "    set_area(index, area)\n",
    "    set_v4c_range(index, v4c_loci)\n",
    "    index.set_value(\"settings.interface.v4c.do_col\".split('.'), True)\n",
    "    index.set_value(\"settings.interface.fixed_bin_size\".split('.'), True)\n",
    "    index.set_value(\"settings.interface.fixed_bin_size_x.val\".split('.'), 10)\n",
    "    index.set_value(\"settings.interface.fixed_bin_size_y.val\".split('.'), 10)\n",
    "    index.set_value(\"settings.interface.add_draw_area.val\".split('.'), 0)\n",
    "    index.save_session()\n",
    "\n",
    "def extract_v4c(index, chr_=[\"Chr10\", \"Chr11\"]):\n",
    "    values = index.get_track_export(True, lambda x: print(x, file=sys.stderr))\n",
    "    extract = []\n",
    "    for c, s, e, vs in values:\n",
    "        if any(x in c for x in chr_):\n",
    "            extract.append(vs[0])\n",
    "\n",
    "    return extract\n",
    "\n",
    "configure(index)\n",
    "v4c_total = extract_v4c(index)\n",
    "print(\"total v4c:\", v4c_total)\n",
    "\n",
    "configure(index, area=\"Chr10 .. Chr11\")\n",
    "v4c_chr11 = extract_v4c(index)\n",
    "print(\"chr11 v4c:\", v4c_chr11)\n",
    "\n",
    "diff = [abs(v4c_total[i] - v4c_chr11[i]) for i in range(len(v4c_total))]\n",
    "print(\"diff:\", diff)\n",
    "print(\"max diff:\", max(diff))"
   ]
  }
 ],
 "metadata": {
  "kernelspec": {
   "display_name": "sm_dev",
   "language": "python",
   "name": "python3"
  },
  "language_info": {
   "codemirror_mode": {
    "name": "ipython",
    "version": 3
   },
   "file_extension": ".py",
   "mimetype": "text/x-python",
   "name": "python",
   "nbconvert_exporter": "python",
   "pygments_lexer": "ipython3",
   "version": "3.9.13"
  }
 },
 "nbformat": 4,
 "nbformat_minor": 2
}
